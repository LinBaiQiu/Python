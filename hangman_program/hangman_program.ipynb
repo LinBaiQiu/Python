{
 "cells": [
  {
   "cell_type": "markdown",
   "id": "56a1bc6a",
   "metadata": {},
   "source": [
    "# hangman_program"
   ]
  },
  {
   "cell_type": "code",
   "execution_count": null,
   "id": "80e1739b",
   "metadata": {},
   "outputs": [
    {
     "name": "stdout",
     "output_type": "stream",
     "text": [
      "Hint, the solution is down.\n",
      "DISPLAY    ['_', '_', '_', '_']\n",
      "Guess a letter: as\n",
      "_ _ _ _\n",
      "\n",
      "  +---+\n",
      "  |   |\n",
      "  O   |\n",
      " /|\\  |\n",
      "      |\n",
      "      |\n",
      "=========\n",
      "\n"
     ]
    }
   ],
   "source": [
    "import random\n",
    "\n",
    "word_list=[] \n",
    "\n",
    "with open('hangman_dictionary.txt','r') as file:  #read from hangman_dictionary.txt\n",
    "    for line in file:   \n",
    "        word_list.append(line.replace('\\n',''))  #create a word list and append data \n",
    "        #print(word_list)  \n",
    "        \n",
    "chosen_word = random.choice(word_list)  # choose a random word using random\n",
    "#print('Random word is ', chosen_word)\n",
    "word_length = len(chosen_word)    \n",
    "\n",
    "end_of_game = False\n",
    "lives = 6     # ?????????\n",
    "\n",
    "from hangman_art import stages  #Import the stages from hangman_art.py\n",
    "#print(stages)                  \n",
    "from hangman_art import logo #Import the logo from hangman_art.py and print it at the start of the game.\n",
    "#print(logo)\n",
    "\n",
    "print(f'Hint, the solution is {chosen_word}.')  # to test code for random word\n",
    "\n",
    "\n",
    "display = []  # Create blanks  ????????\n",
    "for _ in range(word_length):\n",
    "    display += \"_\"\n",
    "print('DISPLAY   ', display)\n",
    "\n",
    "while not end_of_game:\n",
    "    guess = input(\"Guess a letter: \").lower()  # Enter letter from user\n",
    "\n",
    "    if guess in display:\n",
    "        # If the user has entered a letter they've already guessed, print the letter and let them know.\n",
    "        print(f'You have already guessed {guess}.')     \n",
    "\n",
    "    # Check guessed letter\n",
    "    for position in range(word_length):\n",
    "        letter = chosen_word[position]\n",
    "        if letter == guess:\n",
    "            display[position] = letter\n",
    "     #  Check if user is wrong.\n",
    "        # If the letter is not in the chosen_word, print out the letter and let them know it's not in the word.\n",
    "       \n",
    "        lives -= 1\n",
    "        if lives == 0:\n",
    "            end_of_game = True\n",
    "            print(\"You lose.\")\n",
    "\n",
    "    # Join all the elements in the list and turn it into a String.\n",
    "    print(f\"{' '.join(display)}\")\n",
    "\n",
    "    # Check if user has got all letters.\n",
    "    if \"_\" not in display:\n",
    "        end_of_game = True\n",
    "        print(\"You win.\")\n",
    "\n",
    "    print(stages[lives])"
   ]
  },
  {
   "cell_type": "code",
   "execution_count": null,
   "id": "d10461bd",
   "metadata": {},
   "outputs": [],
   "source": []
  }
 ],
 "metadata": {
  "kernelspec": {
   "display_name": "python_ads",
   "language": "python",
   "name": "python_ads"
  },
  "language_info": {
   "codemirror_mode": {
    "name": "ipython",
    "version": 3
   },
   "file_extension": ".py",
   "mimetype": "text/x-python",
   "name": "python",
   "nbconvert_exporter": "python",
   "pygments_lexer": "ipython3",
   "version": "3.9.0"
  }
 },
 "nbformat": 4,
 "nbformat_minor": 5
}
