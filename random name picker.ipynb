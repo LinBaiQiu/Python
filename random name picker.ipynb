{
 "cells": [
  {
   "cell_type": "code",
   "execution_count": 3,
   "id": "5f0d60c2",
   "metadata": {},
   "outputs": [
    {
     "name": "stdout",
     "output_type": "stream",
     "text": [
      "Winner 1: David\n",
      "Winner 2: Sophia\n",
      "Winner 3: Tyler\n"
     ]
    }
   ],
   "source": [
    "import random\n",
    "\n",
    "# List of names\n",
    "names = [\"Alice\", \"Bob\", \"Charlie\", \"David\", \"Eva\", \"Frank\", \"Grace\", \"Helen\", \"Ivy\", \"Jack\",\n",
    "         \"Karen\", \"Liam\", \"Mia\", \"Noah\", \"Olivia\", \"Peter\", \"Quinn\", \"Riley\", \"Sophia\", \"Tyler\"]\n",
    "\n",
    "# Number of winners to select\n",
    "num_winners_to_select = 3\n",
    "\n",
    "# Shuffle the list of names randomly\n",
    "random.shuffle(names)\n",
    "\n",
    "# Select winners one by one\n",
    "for i in range(num_winners_to_select):\n",
    "    if not names:\n",
    "        print(\"No more names to select.\")\n",
    "        break\n",
    "\n",
    "    winner = names.pop()\n",
    "    print(f\"Winner {i + 1}: {winner}\")\n"
   ]
  },
  {
   "cell_type": "code",
   "execution_count": 4,
   "id": "d0988e16",
   "metadata": {},
   "outputs": [
    {
     "name": "stdout",
     "output_type": "stream",
     "text": [
      "Selected Student 1: ID 101, Name Alice\n",
      "Selected Student 2: ID 108, Name David1\n",
      "Selected Student 3: ID 104, Name David\n"
     ]
    }
   ],
   "source": [
    "import random\n",
    "\n",
    "# List of students with ID and Name\n",
    "students = [\n",
    "    {\"ID\": 101, \"Name\": \"Alice\"},\n",
    "    {\"ID\": 102, \"Name\": \"Bob\"},\n",
    "    {\"ID\": 103, \"Name\": \"Charlie\"},\n",
    "    {\"ID\": 104, \"Name\": \"David\"},\n",
    "    {\"ID\": 105, \"Name\": \"Alice1\"},\n",
    "    {\"ID\": 106, \"Name\": \"Bob1\"},\n",
    "    {\"ID\": 107, \"Name\": \"Charlie1\"},\n",
    "    {\"ID\": 108, \"Name\": \"David1\"}\n",
    "]\n",
    "\n",
    "# Number of students to select\n",
    "num_students_to_select = 3\n",
    "\n",
    "# Shuffle the list of students randomly\n",
    "random.shuffle(students)\n",
    "\n",
    "# Select students one by one\n",
    "for i in range(num_students_to_select):\n",
    "    if not students:\n",
    "        print(\"No more students to select.\")\n",
    "        break\n",
    "\n",
    "    selected_student = students.pop()\n",
    "    print(f\"Selected Student {i + 1}: ID {selected_student['ID']}, Name {selected_student['Name']}\")\n"
   ]
  },
  {
   "cell_type": "code",
   "execution_count": null,
   "id": "88e3cdbf",
   "metadata": {},
   "outputs": [],
   "source": []
  }
 ],
 "metadata": {
  "kernelspec": {
   "display_name": "Python 3 (ipykernel)",
   "language": "python",
   "name": "python3"
  },
  "language_info": {
   "codemirror_mode": {
    "name": "ipython",
    "version": 3
   },
   "file_extension": ".py",
   "mimetype": "text/x-python",
   "name": "python",
   "nbconvert_exporter": "python",
   "pygments_lexer": "ipython3",
   "version": "3.11.3"
  }
 },
 "nbformat": 4,
 "nbformat_minor": 5
}
