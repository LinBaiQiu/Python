{
 "cells": [
  {
   "cell_type": "code",
   "execution_count": null,
   "id": "c4fd2091",
   "metadata": {
    "ExecuteTime": {
     "end_time": "2023-05-03T10:15:50.635309Z",
     "start_time": "2023-05-03T10:15:18.619816Z"
    }
   },
   "outputs": [
    {
     "name": "stdout",
     "output_type": "stream",
     "text": [
      "Enter the number of rows: 3\n",
      "Enter the number of columns: 3\n",
      "Current board is:\n",
      "['X', 1, 0]\n",
      "[2, 3, 1]\n",
      "['X', 2, 'X']\n",
      "Enter the row index: 1\n",
      "Enter the column index: 0\n",
      "The user score: 1\n",
      "Current board is:\n",
      "['X', 1, 0]\n",
      "[2, 3, 1]\n",
      "['X', 2, 'X']\n",
      "Enter the row index: 1\n",
      "Enter the column index: 2\n",
      "The user score: 2\n",
      "Current board is:\n",
      "['X', 1, 0]\n",
      "[2, 3, 1]\n",
      "['X', 2, 'X']\n",
      "Enter the row index: 2\n",
      "Enter the column index: 0\n",
      "You lose the GAME !!\n"
     ]
    }
   ],
   "source": [
    "import random  \n",
    "\n",
    "# Create the minesweeper map according to number of rows.\n",
    "def create_minesweeper_map(rows,columns):\n",
    "    # Initialize the minesweeper map with value 0\n",
    "    board = [[0 for i in range(columns)] for j in range(rows)]\n",
    "    # Randomly place the boobs using random\n",
    "    for i in range(rows):        \n",
    "        row = random.randint(0, rows - 1)\n",
    "        col = random.randint(0, columns - 1)\n",
    "        # Not select the same location twice\n",
    "        while board[row][col] == \"X\":           \n",
    "            row = random.randint(0, rows - 1)\n",
    "            col = random.randint(0, columns - 1)\n",
    "        # Place the boobs \"X\"\n",
    "        board[row][col] = \"X\"\n",
    "    return board\n",
    "\n",
    "# Update the minesweeper map according to the surrounding boombs\n",
    "def update_minesweeper_map(board, rows, columns):\n",
    "    for row in range(rows):\n",
    "        for col in range(columns):\n",
    "            if board[row][col] == \"X\":\n",
    "                for i in range(-1, 2):  # Row\n",
    "                    for j in range(-1, 2): # Col\n",
    "                        if (0 <= row + i < rows) and (0 <= col + j < columns) and (board[row + i][col + j] != \"X\"):\n",
    "                            board[row + i][col + j] += 1\n",
    "    return board\n",
    "\n",
    "\n",
    "# Start the game\n",
    "def play_game(board, rows, columns):\n",
    "    score = 0\n",
    "    # Loop until all cells except the bombs are selected\n",
    "    for i in range(rows * columns - len(board)):\n",
    "        print(\"Current board is:\")\n",
    "        # Show minesweeper_map\n",
    "        for row in board:\n",
    "            print(row)\n",
    "        # Ask again the user to input the number of rows and columns => board[row][col]\n",
    "        row = int(input(\"Enter the row index: \"))\n",
    "        col = int(input(\"Enter the column index: \"))       \n",
    "        # Check if the selected cell contains a bomb                     \n",
    "        if board[row][col] == \"X\":\n",
    "            # If the location that user inputs has boom, the user will lose the game.\n",
    "            print(\"You lose the GAME !!\")\n",
    "            return False\n",
    "        else:\n",
    "            # Everytime the user doesn’t hit the boom, the user score will increaseby 1.\n",
    "            score += 1\n",
    "            print(\"The user score:\", score)\n",
    "    print(\"You win! Final score:\", score)\n",
    "    return True\n",
    "\n",
    "\n",
    "if __name__ == \"__main__\":  # The file is run as the main program \n",
    "    #Ask the number of rows and columns from the user\n",
    "    rows = int(input(\"Enter the number of rows: \"))\n",
    "    columns = int(input(\"Enter the number of columns: \")) \n",
    "    \n",
    "    #Create the minesweeper map according to number of rows.\n",
    "    board = create_minesweeper_map(rows, columns)\n",
    "    #Update the minesweeper map according to the surrounding boombs\n",
    "    board = update_minesweeper_map(board, rows, columns)\n",
    "    \n",
    "    game_over = False  \n",
    "    \n",
    "    while not game_over:\n",
    "        # Start the game\n",
    "        game_over = play_game(board, rows, columns)\n",
    "        if not game_over:\n",
    "             # If the user input Y, the game will start again from Step \n",
    "            play_again = input(\"Do you want to continue ? Y/N \")\n",
    "            if play_again == \"Y\":\n",
    "                board = create_minesweeper_map(rows, columns)\n",
    "                board = update_minesweeper_map(board, rows, columns)\n",
    "                game_over = False\n",
    "            else:\n",
    "                # The program will finish successfully\n",
    "                print(\"The game will finish successfully !!\")\n",
    "                break "
   ]
  },
  {
   "cell_type": "code",
   "execution_count": null,
   "id": "889a3cee",
   "metadata": {},
   "outputs": [],
   "source": []
  }
 ],
 "metadata": {
  "kernelspec": {
   "display_name": "Python 3 (ipykernel)",
   "language": "python",
   "name": "python3"
  },
  "language_info": {
   "codemirror_mode": {
    "name": "ipython",
    "version": 3
   },
   "file_extension": ".py",
   "mimetype": "text/x-python",
   "name": "python",
   "nbconvert_exporter": "python",
   "pygments_lexer": "ipython3",
   "version": "3.11.3"
  },
  "toc": {
   "base_numbering": 1,
   "nav_menu": {},
   "number_sections": true,
   "sideBar": true,
   "skip_h1_title": false,
   "title_cell": "Table of Contents",
   "title_sidebar": "Contents",
   "toc_cell": false,
   "toc_position": {},
   "toc_section_display": true,
   "toc_window_display": false
  },
  "varInspector": {
   "cols": {
    "lenName": 16,
    "lenType": 16,
    "lenVar": 40
   },
   "kernels_config": {
    "python": {
     "delete_cmd_postfix": "",
     "delete_cmd_prefix": "del ",
     "library": "var_list.py",
     "varRefreshCmd": "print(var_dic_list())"
    },
    "r": {
     "delete_cmd_postfix": ") ",
     "delete_cmd_prefix": "rm(",
     "library": "var_list.r",
     "varRefreshCmd": "cat(var_dic_list()) "
    }
   },
   "types_to_exclude": [
    "module",
    "function",
    "builtin_function_or_method",
    "instance",
    "_Feature"
   ],
   "window_display": false
  }
 },
 "nbformat": 4,
 "nbformat_minor": 5
}
