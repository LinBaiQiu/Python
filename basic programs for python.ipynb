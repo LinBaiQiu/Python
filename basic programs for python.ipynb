{
 "cells": [
  {
   "cell_type": "markdown",
   "id": "9e700de8",
   "metadata": {},
   "source": [
    "# Exercise 1:  Calculate the multiplication and sum of two numbers"
   ]
  },
  {
   "cell_type": "code",
   "execution_count": 1,
   "id": "f5a994ea",
   "metadata": {},
   "outputs": [
    {
     "name": "stdout",
     "output_type": "stream",
     "text": [
      "Enter number1 : 10\n",
      "Enter number2 : 20\n"
     ]
    }
   ],
   "source": [
    "number1=int(input('Enter number1 : '))\n",
    "number2=int(input('Enter number2 : '))"
   ]
  },
  {
   "cell_type": "code",
   "execution_count": 2,
   "id": "0a3898c3",
   "metadata": {},
   "outputs": [
    {
     "name": "stdout",
     "output_type": "stream",
     "text": [
      "The result is 200\n"
     ]
    }
   ],
   "source": [
    "if(number1 * number2 )< 1000:\n",
    "    print(\"The result is\",number1 * number2)\n",
    "else:\n",
    "    print(\"The result is\",number1 + number2)"
   ]
  },
  {
   "cell_type": "markdown",
   "id": "63c85709",
   "metadata": {},
   "source": [
    "# Exercise 2:  BIM Calculator"
   ]
  },
  {
   "cell_type": "code",
   "execution_count": 5,
   "id": "d387d09c",
   "metadata": {},
   "outputs": [
    {
     "name": "stdout",
     "output_type": "stream",
     "text": [
      "Enter weight  : 120\n",
      "Enter height  : 5\n"
     ]
    }
   ],
   "source": [
    "weight=float(input('Enter weight  : '))\n",
    "height=float(input('Enter height  : '))"
   ]
  },
  {
   "cell_type": "code",
   "execution_count": 6,
   "id": "3dbe97b8",
   "metadata": {},
   "outputs": [
    {
     "name": "stdout",
     "output_type": "stream",
     "text": [
      "5\n"
     ]
    }
   ],
   "source": [
    "#BMI Calculator Equation = round(weight / height ** 2)\n",
    "bmi=round(weight / height ** 2)\n",
    "print(bmi)"
   ]
  },
  {
   "cell_type": "code",
   "execution_count": 7,
   "id": "3c3b5a31",
   "metadata": {},
   "outputs": [
    {
     "name": "stdout",
     "output_type": "stream",
     "text": [
      "They are underweight\n"
     ]
    }
   ],
   "source": [
    "if  bmi <= 18.5:\n",
    "    print(\"They are underweight\")\n",
    "    \n",
    "elif 18.5 < bmi <= 25:\n",
    "    print(\"They have a normal weight\")\n",
    "    \n",
    "elif 25 < bmi <= 30:\n",
    "    print(\"They are slightly overweight\")  \n",
    "    \n",
    "elif 30 < bmi <= 35:\n",
    "    print(\"They are obese\")\n",
    "    \n",
    "else:\n",
    "    print(\"They are clinically obese\")"
   ]
  },
  {
   "cell_type": "markdown",
   "id": "f9fb58d1",
   "metadata": {},
   "source": [
    "# Exercise 3:  Calculate the remaining age"
   ]
  },
  {
   "cell_type": "code",
   "execution_count": 8,
   "id": "562fdeae",
   "metadata": {},
   "outputs": [
    {
     "name": "stdout",
     "output_type": "stream",
     "text": [
      "Enter your age  : 33\n"
     ]
    }
   ],
   "source": [
    "age =int(input('Enter your age  : '))"
   ]
  },
  {
   "cell_type": "code",
   "execution_count": 9,
   "id": "df273d58",
   "metadata": {},
   "outputs": [
    {
     "name": "stdout",
     "output_type": "stream",
     "text": [
      "You have 20805 days - 2964 weeks- 684 months left.\n"
     ]
    }
   ],
   "source": [
    "remain_age = 90 - int(age)\n",
    "days = remain_age * 365\n",
    "weeks = remain_age * 52\n",
    "months = remain_age * 12\n",
    "age_result = \"You have {} days - {} weeks- {} months left.\"\n",
    "print(age_result.format(days, weeks, months))"
   ]
  },
  {
   "cell_type": "markdown",
   "id": "3a670723",
   "metadata": {},
   "source": [
    "# Exercise 4:  Order Pizza by Size"
   ]
  },
  {
   "cell_type": "code",
   "execution_count": 33,
   "id": "2b89a114",
   "metadata": {},
   "outputs": [
    {
     "name": "stdout",
     "output_type": "stream",
     "text": [
      "Enter pizza size (S/M/L) : M\n",
      "Enter pepperoni (Y/N)  : N\n",
      "Enter extra_cheese (Y/N) : Y\n"
     ]
    }
   ],
   "source": [
    "pizza_size    =input('Enter pizza size (S/M/L) : ')\n",
    "add_pepperoni =input('Enter pepperoni (Y/N)  : ')\n",
    "extra_cheese =input('Enter extra_cheese (Y/N) : ')"
   ]
  },
  {
   "cell_type": "code",
   "execution_count": 34,
   "id": "54c0fadd",
   "metadata": {},
   "outputs": [
    {
     "name": "stdout",
     "output_type": "stream",
     "text": [
      " Final bill is  21\n"
     ]
    }
   ],
   "source": [
    "bill = 0\n",
    "\n",
    "#pizza_size\n",
    "if pizza_size == \"S\":\n",
    "    bill = 15\n",
    "elif pizza_size == \"M\":\n",
    "    bill = 20\n",
    "elif pizza_size == \"L\":\n",
    "    bill = 25\n",
    "else:\n",
    "    pass\n",
    "\n",
    "\n",
    "#add_pepperoni\n",
    "if add_pepperoni == \"Y\" and pizza_size == \"S\":\n",
    "    bill += 2\n",
    "elif add_pepperoni == \"Y\" and ( pizza_size == \"M\" or pizza_size == \"L\"):\n",
    "    bill += 3\n",
    "else:\n",
    "     pass\n",
    "\n",
    "\n",
    "#extra_cheese\n",
    "if extra_cheese == \"Y\":\n",
    "    bill += 1\n",
    "else:\n",
    "    pass\n",
    "\n",
    "print(\" Final bill is \",bill)"
   ]
  },
  {
   "cell_type": "markdown",
   "id": "6e4c9d7b",
   "metadata": {},
   "source": [
    "# Exercise 5:  Leap Year"
   ]
  },
  {
   "cell_type": "code",
   "execution_count": 37,
   "id": "a6e1a296",
   "metadata": {},
   "outputs": [
    {
     "name": "stdout",
     "output_type": "stream",
     "text": [
      "Enter Year: 2000\n"
     ]
    }
   ],
   "source": [
    "Year    =int(input('Enter Year: '))"
   ]
  },
  {
   "cell_type": "code",
   "execution_count": 38,
   "id": "64ec1878",
   "metadata": {},
   "outputs": [
    {
     "name": "stdout",
     "output_type": "stream",
     "text": [
      "Given Year is a leap Year\n"
     ]
    }
   ],
   "source": [
    "if((Year % 400 == 0) or (Year % 100 != 0) and  (Year % 4 == 0)):   \n",
    "    print(\"Given Year is a leap Year\");  \n",
    "else:  \n",
    "    print (\"Given Year is not a leap Year\")     "
   ]
  },
  {
   "cell_type": "markdown",
   "id": "15b2e8d6",
   "metadata": {},
   "source": [
    "# Exercise 6:  Extend nested list by adding the sublist"
   ]
  },
  {
   "cell_type": "code",
   "execution_count": 39,
   "id": "16b5c8a2",
   "metadata": {},
   "outputs": [],
   "source": [
    "exe6_list = [\"a\", \"b\", [\"c\", [\"d\", \"e\", [\"f\", \"g\"], \"k\"], \"l\"], \"m\", \"n\"]"
   ]
  },
  {
   "cell_type": "code",
   "execution_count": 41,
   "id": "bbb3eef8",
   "metadata": {},
   "outputs": [],
   "source": [
    "exe6_list[2][1][2].insert(2,'h')\n",
    "exe6_list[2][1][2].insert(3,'i')\n",
    "exe6_list[2][1][2].insert(4,'j')"
   ]
  },
  {
   "cell_type": "code",
   "execution_count": 42,
   "id": "5aee4538",
   "metadata": {},
   "outputs": [
    {
     "name": "stdout",
     "output_type": "stream",
     "text": [
      "['a', 'b', ['c', ['d', 'e', ['f', 'g', 'h', 'i', 'j'], 'k'], 'l'], 'm', 'n']\n"
     ]
    }
   ],
   "source": [
    "print(exe6_list)"
   ]
  },
  {
   "cell_type": "markdown",
   "id": "02e58219",
   "metadata": {},
   "source": [
    "# Exercise 7:  Remove all occurrences of a specific item from \n",
    "a list.\n"
   ]
  },
  {
   "cell_type": "code",
   "execution_count": 26,
   "id": "fa4c875b",
   "metadata": {},
   "outputs": [],
   "source": [
    "exe7_list = [5, 20, 15, 20, 25, 50, 20]"
   ]
  },
  {
   "cell_type": "code",
   "execution_count": 25,
   "id": "e454897c",
   "metadata": {},
   "outputs": [
    {
     "name": "stdout",
     "output_type": "stream",
     "text": [
      "[5, 15, 25, 50]\n"
     ]
    }
   ],
   "source": [
    "#first method\n",
    "dup_val = 20\n",
    "exe7_list.remove(dup_val)\n",
    "print(exe7_list)"
   ]
  },
  {
   "cell_type": "code",
   "execution_count": 32,
   "id": "4d044532",
   "metadata": {},
   "outputs": [
    {
     "name": "stdout",
     "output_type": "stream",
     "text": [
      "[5, 15, 25, 50]\n"
     ]
    }
   ],
   "source": [
    "#second method\n",
    "dup_val = 20\n",
    "exe7_list = [i for i in exe7_list if i != dup_val]\n",
    "print(exe7_list)"
   ]
  },
  {
   "cell_type": "markdown",
   "id": "4ddfeb0b",
   "metadata": {},
   "source": [
    "# Exercise 8:  Convert Degree to Radians"
   ]
  },
  {
   "cell_type": "code",
   "execution_count": 39,
   "id": "4f4aec46",
   "metadata": {},
   "outputs": [
    {
     "name": "stdout",
     "output_type": "stream",
     "text": [
      "Enter degree : 15\n"
     ]
    }
   ],
   "source": [
    "degree    =float (input('Enter degree : '))"
   ]
  },
  {
   "cell_type": "code",
   "execution_count": 40,
   "id": "1a3f6252",
   "metadata": {},
   "outputs": [
    {
     "name": "stdout",
     "output_type": "stream",
     "text": [
      "Expected Result in radians:  0.2616666666666667\n"
     ]
    }
   ],
   "source": [
    "pi=3.14\n",
    "radian = degree*(pi/180)\n",
    "print(\"Expected Result in radians: \", radian)"
   ]
  },
  {
   "cell_type": "markdown",
   "id": "628c21d0",
   "metadata": {},
   "source": [
    "# Exercise 9:  Convert Radians to Degree"
   ]
  },
  {
   "cell_type": "code",
   "execution_count": 41,
   "id": "719a2370",
   "metadata": {},
   "outputs": [
    {
     "name": "stdout",
     "output_type": "stream",
     "text": [
      "Enter radians : 10\n"
     ]
    }
   ],
   "source": [
    "radian    =float (input('Enter radians : '))"
   ]
  },
  {
   "cell_type": "code",
   "execution_count": 42,
   "id": "aa64cf1f",
   "metadata": {},
   "outputs": [
    {
     "name": "stdout",
     "output_type": "stream",
     "text": [
      "Expected Result in degree:  573.248407643312\n"
     ]
    }
   ],
   "source": [
    "pi=3.14\n",
    "degree = radian*(180/pi)\n",
    "print(\"Expected Result in degree: \", degree)"
   ]
  },
  {
   "cell_type": "markdown",
   "id": "66955de4",
   "metadata": {},
   "source": [
    "# Exercise 10:  Calculate the area of a trapezoid"
   ]
  },
  {
   "cell_type": "code",
   "execution_count": 43,
   "id": "ed26d2bf",
   "metadata": {},
   "outputs": [
    {
     "name": "stdout",
     "output_type": "stream",
     "text": [
      "Enter Height of trapezoid: 6\n",
      "Enter Base one value: 10\n",
      "Enter Base two value: 5\n"
     ]
    }
   ],
   "source": [
    "height = float(input('Enter Height of trapezoid: '))\n",
    "base_one = float(input('Enter Base one value: '))\n",
    "base_two = float(input('Enter Base two value: '))                     "
   ]
  },
  {
   "cell_type": "code",
   "execution_count": 44,
   "id": "dd2f1bca",
   "metadata": {},
   "outputs": [
    {
     "name": "stdout",
     "output_type": "stream",
     "text": [
      "Area is: 45.0\n"
     ]
    }
   ],
   "source": [
    "area = ((base_one + base_two) / 2) * height\n",
    "print(\"Area is:\", area)"
   ]
  },
  {
   "cell_type": "markdown",
   "id": "f3d635d8",
   "metadata": {},
   "source": [
    "# Exercise 11:  Calculate the area of a parallelogram"
   ]
  },
  {
   "cell_type": "code",
   "execution_count": 45,
   "id": "2b7838e7",
   "metadata": {},
   "outputs": [
    {
     "name": "stdout",
     "output_type": "stream",
     "text": [
      "Enter Length of base: 5\n",
      "Enter Measurement of height: 6\n"
     ]
    }
   ],
   "source": [
    "base = float(input('Enter Length of base: '))\n",
    "height = float(input('Enter Measurement of height: '))"
   ]
  },
  {
   "cell_type": "code",
   "execution_count": 46,
   "id": "bb5a20e9",
   "metadata": {},
   "outputs": [
    {
     "name": "stdout",
     "output_type": "stream",
     "text": [
      "Area is:  30.0\n"
     ]
    }
   ],
   "source": [
    "area = base * height\n",
    "print(\"Area is: \", area)"
   ]
  },
  {
   "cell_type": "markdown",
   "id": "30ca4a3a",
   "metadata": {},
   "source": [
    "## Exercise 12:  Python while loop to print a number series by increasing 10. "
   ]
  },
  {
   "cell_type": "code",
   "execution_count": 10,
   "id": "dd346a41",
   "metadata": {},
   "outputs": [
    {
     "name": "stdout",
     "output_type": "stream",
     "text": [
      "Input :100\n",
      "Expected Output:  [10, 20, 30, 40, 50, 60, 70, 80, 90, 100]\n"
     ]
    }
   ],
   "source": [
    "number = int(input(\"Input :\"))\n",
    "index = 0 \n",
    "sum = 0\n",
    "temp_list=[]\n",
    "while sum < number: \n",
    "    sum+=10 \n",
    "    temp_list.append(sum)\n",
    "    index += 1\n",
    "print(\"Expected Output: \", temp_list)   "
   ]
  },
  {
   "cell_type": "markdown",
   "id": "e27e26f9",
   "metadata": {},
   "source": [
    "## Exercise 13:  Printing all letters except some using Python while loop"
   ]
  },
  {
   "cell_type": "code",
   "execution_count": 11,
   "id": "52d4b993",
   "metadata": {},
   "outputs": [
    {
     "name": "stdout",
     "output_type": "stream",
     "text": [
      "H\n",
      "e\n",
      "l\n",
      "l\n"
     ]
    }
   ],
   "source": [
    "word='Hello'\n",
    "i = 0 \n",
    "count = 0\n",
    "while i<len(word):\n",
    "    if word[i] not in 'yo':\n",
    "        print(word[i])  \n",
    "    i += 1"
   ]
  },
  {
   "cell_type": "markdown",
   "id": "ccc4c23d",
   "metadata": {},
   "source": [
    "## Exercise 14: Python while loop to take inputs from the user"
   ]
  },
  {
   "cell_type": "code",
   "execution_count": 12,
   "id": "c50cd949",
   "metadata": {},
   "outputs": [
    {
     "name": "stdout",
     "output_type": "stream",
     "text": [
      "Enter a number :5\n",
      "Enter zero to quit: 5\n",
      "Enter a number :3\n",
      "Enter zero to quit: 3\n",
      "Enter a number :0\n",
      "Done!\n"
     ]
    }
   ],
   "source": [
    "while True:\n",
    "    number=int(input('Enter a number :'))\n",
    "    if number != 0:        \n",
    "        print('Enter zero to quit:',number )\n",
    "    else:\n",
    "        break\n",
    "print('Done!')"
   ]
  },
  {
   "cell_type": "markdown",
   "id": "6a556872",
   "metadata": {},
   "source": [
    "## Exercise 15: Finding the average of 5 numbers using while loop"
   ]
  },
  {
   "cell_type": "code",
   "execution_count": 14,
   "id": "b5ef9eef",
   "metadata": {},
   "outputs": [
    {
     "name": "stdout",
     "output_type": "stream",
     "text": [
      "Enter the number :10\n",
      "Enter the number :9\n",
      "Enter the number :8\n",
      "Enter the number :7\n",
      "Enter the number :6\n",
      "Average of given Numbers: 8.0\n"
     ]
    }
   ],
   "source": [
    "index =0\n",
    "sum=0\n",
    "aveage=0\n",
    "while index < 5:\n",
    "    number=int(input('Enter the number :'))  \n",
    "    sum+=number   \n",
    "    index += 1\n",
    "aveage= sum/index\n",
    "print('Average of given Numbers:',aveage)"
   ]
  },
  {
   "cell_type": "markdown",
   "id": "8b05e378",
   "metadata": {},
   "source": [
    "## Exercise 16: Reversing a number using while loop in Python"
   ]
  },
  {
   "cell_type": "code",
   "execution_count": 15,
   "id": "d311942f",
   "metadata": {},
   "outputs": [
    {
     "name": "stdout",
     "output_type": "stream",
     "text": [
      "Enter a number :10\n",
      "Reversed number : 1\n"
     ]
    }
   ],
   "source": [
    "number=int(input('Enter a number :'))  \n",
    "temp = 0\n",
    "reverse=0\n",
    "while number != 0:\n",
    "      temp = number % 10\n",
    "      reverse = reverse * 10 + temp\n",
    "      number = int(number / 10)\n",
    "print( 'Reversed number :',reverse)"
   ]
  },
  {
   "cell_type": "markdown",
   "id": "c5d2f686",
   "metadata": {},
   "source": [
    "## Exercise 17: Finding the factorial of a given number using while loop"
   ]
  },
  {
   "cell_type": "code",
   "execution_count": 19,
   "id": "efaff0a6",
   "metadata": {},
   "outputs": [
    {
     "name": "stdout",
     "output_type": "stream",
     "text": [
      "Enter a number :5\n",
      "Factorial of 5 is : 120\n"
     ]
    }
   ],
   "source": [
    "number=int(input('Enter a number :'))    #factorial = 1*2*3*4*5 = 120\n",
    "index=1\n",
    "fact=1\n",
    "while index<= number:\n",
    "    fact = fact * index \n",
    "    index += 1\n",
    "print( 'Factorial of', number ,'is :',fact)  "
   ]
  },
  {
   "cell_type": "code",
   "execution_count": null,
   "id": "0c7eec69",
   "metadata": {},
   "outputs": [],
   "source": []
  }
 ],
 "metadata": {
  "kernelspec": {
   "display_name": "ml_env",
   "language": "python",
   "name": "ml_env"
  },
  "language_info": {
   "codemirror_mode": {
    "name": "ipython",
    "version": 3
   },
   "file_extension": ".py",
   "mimetype": "text/x-python",
   "name": "python",
   "nbconvert_exporter": "python",
   "pygments_lexer": "ipython3",
   "version": "3.9.17"
  },
  "varInspector": {
   "cols": {
    "lenName": 16,
    "lenType": 16,
    "lenVar": 40
   },
   "kernels_config": {
    "python": {
     "delete_cmd_postfix": "",
     "delete_cmd_prefix": "del ",
     "library": "var_list.py",
     "varRefreshCmd": "print(var_dic_list())"
    },
    "r": {
     "delete_cmd_postfix": ") ",
     "delete_cmd_prefix": "rm(",
     "library": "var_list.r",
     "varRefreshCmd": "cat(var_dic_list()) "
    }
   },
   "types_to_exclude": [
    "module",
    "function",
    "builtin_function_or_method",
    "instance",
    "_Feature"
   ],
   "window_display": false
  }
 },
 "nbformat": 4,
 "nbformat_minor": 5
}
